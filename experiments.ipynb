{
 "cells": [
  {
   "cell_type": "code",
   "execution_count": 13,
   "metadata": {
    "collapsed": true
   },
   "outputs": [],
   "source": [
    "%matplotlib inline\n",
    "import numpy as np\n",
    "from mlp import MLP\n",
    "import os\n",
    "import matplotlib.pyplot as plt\n",
    "\n",
    "\n",
    "def gradient_check(parameter, mlp, perturbation, x, y):\n",
    "    cost, gradient = mlp.calculate_gradient(x, y)\n",
    "    gradient = gradient['grad_{}'.format(parameter)]\n",
    "    numerical_gradient = np.zeros((mlp.params[parameter].shape[0], mlp.params[parameter].shape[1], len(cost)))\n",
    "    rows, columns = mlp.params[parameter].shape\n",
    "    for i in range(rows):\n",
    "        for j in range(columns):\n",
    "            mlp.params[parameter][i, j] = mlp.params[parameter][i, j] + perturbation\n",
    "            pert_cost, _ = mlp.calculate_gradient(x, y)\n",
    "            numerical_gradient[i, j, :] = pert_cost-cost\n",
    "            mlp.params[parameter][i, j] = mlp.params[parameter][i, j] - perturbation\n",
    "    numerical_gradient = numerical_gradient/perturbation\n",
    "    numerical_gradient = np.sum(numerical_gradient, axis=2)\n",
    "    check = np.divide(numerical_gradient+perturbation*0.001, gradient+perturbation*0.001)\n",
    "    return numerical_gradient, check\n",
    "\n",
    "\n",
    "def plot_decision_boundary(clf, x, y, title, save_name):\n",
    "    fig, ax = plt.subplots()\n",
    "    x_min, x_max = x[0, :].min() - 0.25, x[0, :].max() + 0.25\n",
    "    y_min, y_max = x[1, :].min() - 0.25, x[1, :].max() + 0.25\n",
    "    xx, yy = np.meshgrid(np.arange(x_min, x_max, 0.1), np.arange(y_min, y_max, 0.1))\n",
    "    Z = clf.predict(np.transpose(np.c_[xx.ravel(), yy.ravel()]))\n",
    "    Z = Z.reshape(xx.shape)\n",
    "    plt.contourf(xx, yy, Z, alpha=0.4, cmap=plt.cm.bwr)\n",
    "    unique_classes = np.unique(y)\n",
    "    colors = plt.cm.spring(np.linspace(0, 1, len(unique_classes)))\n",
    "    for i, class_ in enumerate(unique_classes):\n",
    "        _, mask = np.where(y == class_)\n",
    "        ax.scatter(x[0, mask], x[1, mask], c=colors[i], label='Category: {}'.format(class_),\n",
    "                   s=3, edgecolors='black', linewidths=0.2)\n",
    "    ax.legend(loc='upper right', framealpha=1)\n",
    "    ax.grid(True)\n",
    "    plt.title(title)\n",
    "    plt.axis(\"tight\")\n",
    "    # plt.savefig(save_name)\n",
    "    plt.show()\n",
    "    \n",
    "\n",
    "def plot_functions(X, names, ax_names):\n",
    "    \n",
    "    epochs = np.arange(0, X.shape[1])\n",
    "    for i in range(X.shape[0]):\n",
    "        plt.plot(epochs, X[i, :], label=names[i])\n",
    "        \n",
    "    plt.xlabel(ax_names[0])\n",
    "    plt.ylabel(ax_names[1])\n",
    "    plt.legend()\n",
    "    plt.show()\n"
   ]
  },
  {
   "cell_type": "markdown",
   "metadata": {},
   "source": [
    "# Experiment 1: Gradient checking for **single** example"
   ]
  },
  {
   "cell_type": "code",
   "execution_count": 14,
   "metadata": {},
   "outputs": [
    {
     "name": "stdout",
     "output_type": "stream",
     "text": [
      "{'numerical_gradient_w2': array([[-0.16446078, -0.16583046],\n       [ 0.15425422, -0.20161083]]), 'grad_w2': array([[-0.16447078, -0.16584046],\n       [ 0.15424422, -0.20162083]]), 'check_w2': array([[ 0.9999392 ,  0.9999397 ],\n       [ 1.00006483,  0.9999504 ]]), 'numerical_gradient_b2': array([[-0.4999875],\n       [ 0.5000125]]), 'grad_b2': array([[-0.5],\n       [ 0.5]]), 'check_b2': array([[ 0.999975],\n       [ 1.000025]]), 'numerical_gradient_w1': array([[-0.22391392,  0.20219128],\n       [ 0.12984512, -0.20746993]]), 'grad_w1': array([[-0.22392392,  0.20218128],\n       [ 0.12983512, -0.20747993]]), 'check_w1': array([[ 0.99995534,  1.00004946],\n       [ 1.00007702,  0.9999518 ]]), 'numerical_gradient_b1': array([[ 0.],\n       [ 0.]]), 'grad_b1': array([[ 0.],\n       [ 0.]]), 'check_b1': array([[ 1.],\n       [ 1.]])}\n"
     ]
    }
   ],
   "source": [
    "inputs = 2\n",
    "outputs = 2\n",
    "hidden = 2\n",
    "n = 1\n",
    "lambdas = [0.1, 0.1, 0.1, 0.1]\n",
    "mlp = MLP(inputs, hidden, outputs, lambdas, matrix=False)\n",
    "x = np.random.rand(inputs, n)\n",
    "y = np.random.randint(0, outputs, (1, n))\n",
    "numerical_gradient_w2, check_w2 = gradient_check('w2', mlp, 10e-5, x, y)\n",
    "numerical_gradient_b2, check_b2 = gradient_check('b2', mlp, 10e-5, x, y)\n",
    "numerical_gradient_w1, check_w1 = gradient_check('w1', mlp, 10e-5, x, y)\n",
    "numerical_gradient_b1, check_b1 = gradient_check('b1', mlp, 10e-5, x, y)\n",
    "experiment_1 = {\n",
    "        'numerical_gradient_w2': numerical_gradient_w2,\n",
    "        'grad_w2': mlp.bprop['grad_w2'],\n",
    "        'check_w2': check_w2,\n",
    "        'numerical_gradient_b2': numerical_gradient_b2,\n",
    "        'grad_b2': mlp.bprop['grad_b2'],\n",
    "        'check_b2': check_b2,\n",
    "        'numerical_gradient_w1': numerical_gradient_w1,\n",
    "        'grad_w1': mlp.bprop['grad_w1'],\n",
    "        'check_w1': check_w1,\n",
    "        'numerical_gradient_b1': numerical_gradient_b1,\n",
    "        'grad_b1': mlp.bprop['grad_b1'],\n",
    "        'check_b1': check_b1}\n",
    "\n",
    "print(experiment_1)\n"
   ]
  },
  {
   "cell_type": "markdown",
   "metadata": {},
   "source": [
    "Looking at the check_x arrays, we notice that the ratio between the finite differences computation and backpropagation yields values very close to 1.0, which shows how the backprop step is implemented correctly. "
   ]
  },
  {
   "cell_type": "markdown",
   "metadata": {},
   "source": [
    "# Experiment 4: gradient checking for **minibatch of size 10**"
   ]
  },
  {
   "cell_type": "code",
   "execution_count": 3,
   "metadata": {},
   "outputs": [
    {
     "name": "stdout",
     "output_type": "stream",
     "text": [
      "{'numerical_gradient_w2': array([[ 0.0359035 ,  0.        ,  0.08839758,  0.13414904,  0.58530901,\n         0.24880578,  0.67310225,  0.32571193],\n       [-0.03590341,  0.        , -0.08839493, -0.13414854, -0.58526261,\n        -0.24880383, -0.67303657, -0.32570354]]), 'grad_w2': array([[ 0.03590422,  0.        ,  0.03187382,  0.06522319,  0.21284506,\n         0.13214308,  0.24463873,  0.11896073],\n       [-0.03590422, -0.        , -0.03187382, -0.06522319, -0.21284506,\n        -0.13214308, -0.24463873, -0.11896073]]), 'check_w2': array([[ 1.00000121,  1.        ,  1.00001499,  1.00000188,  1.00003964,\n         1.00000393,  1.00004879,  1.00001288],\n       [ 0.99999879,  1.        ,  0.99998501,  0.99999812,  0.99996036,\n         0.99999607,  0.9999512 ,  0.99998712]]), 'numerical_gradient_b2': array([[ 0.88039299],\n       [-0.88015222]]), 'grad_b2': array([[ 0.59755694],\n       [-0.59755694]]), 'check_b2': array([[ 1.00013676],\n       [ 0.99986324]]), 'numerical_gradient_w1': array([[-0.00559869, -0.09682165],\n       [ 0.        ,  0.        ],\n       [-0.04804386, -0.71986831],\n       [-0.03377336, -0.11732827],\n       [ 0.00618255,  0.09260104],\n       [ 0.15274159,  0.48210437],\n       [ 0.04212243,  0.63074088],\n       [ 0.03755424,  0.56235513]]), 'grad_w1': array([[-0.00559881, -0.09682402],\n       [ 0.        ,  0.        ],\n       [-0.01521336, -0.26309491],\n       [-0.00209205, -0.03617917],\n       [ 0.00195693,  0.03384258],\n       [ 0.00796347,  0.13771758],\n       [ 0.01332919,  0.23051056],\n       [ 0.01188405,  0.20551877]]), 'check_w1': array([[ 0.99999981,  0.99999674],\n       [ 1.        ,  1.        ],\n       [ 0.99963533,  0.99997601],\n       [ 0.99999917,  0.99999852],\n       [ 1.00004691,  1.00000309],\n       [ 1.00000244,  1.00000508],\n       [ 1.0003195 ,  1.00002102],\n       [ 1.00028486,  1.00001874]]), 'numerical_gradient_b1': array([[-0.14851477],\n       [ 0.        ],\n       [-0.59444018],\n       [-0.12763314],\n       [ 0.07647236],\n       [ 0.65034073],\n       [ 0.52090891],\n       [ 0.46442827]]), 'grad_b1': array([[-0.14851867],\n       [ 0.        ],\n       [-0.40356211],\n       [-0.05549535],\n       [ 0.05191124],\n       [ 0.21124543],\n       [ 0.35358087],\n       [ 0.31524589]]), 'check_b1': array([[ 0.999995  ],\n       [ 1.        ],\n       [ 0.99990764],\n       [ 0.99999676],\n       [ 1.00001188],\n       [ 1.00000683],\n       [ 1.00008092],\n       [ 1.00007215]])}\n"
     ]
    }
   ],
   "source": [
    "inputs = 2\n",
    "outputs = 2\n",
    "hidden = 8\n",
    "n = 10\n",
    "lambdas = [0, 0, 0, 0]\n",
    "mlp = MLP(inputs, hidden, outputs, lambdas, matrix=False)\n",
    "x = np.random.rand(inputs, n)\n",
    "y = np.random.randint(0, outputs, (1, n))\n",
    "numerical_gradient_w2, check_w2 = gradient_check('w2', mlp, 10e-5, x, y)\n",
    "numerical_gradient_b2, check_b2 = gradient_check('b2', mlp, 10e-5, x, y)\n",
    "numerical_gradient_w1, check_w1 = gradient_check('w1', mlp, 10e-5, x, y)\n",
    "numerical_gradient_b1, check_b1 = gradient_check('b1', mlp, 10e-5, x, y)\n",
    "experiment_2 = {\n",
    "        'numerical_gradient_w2': numerical_gradient_w2,\n",
    "        'grad_w2': mlp.bprop['grad_w2'],\n",
    "        'check_w2': check_w2,\n",
    "        'numerical_gradient_b2': numerical_gradient_b2,\n",
    "        'grad_b2': mlp.bprop['grad_b2'],\n",
    "        'check_b2': check_b2,\n",
    "        'numerical_gradient_w1': numerical_gradient_w1,\n",
    "        'grad_w1': mlp.bprop['grad_w1'],\n",
    "        'check_w1': check_w1,\n",
    "        'numerical_gradient_b1': numerical_gradient_b1,\n",
    "        'grad_b1': mlp.bprop['grad_b1'],\n",
    "        'check_b1': check_b1}\n",
    "\n",
    "print(experiment_2)"
   ]
  },
  {
   "cell_type": "markdown",
   "metadata": {},
   "source": [
    "Similarly to the above experiment, gradient checking with a batch size of 10 yields rations close to 1.0. "
   ]
  },
  {
   "cell_type": "markdown",
   "metadata": {},
   "source": [
    "# Experiment 5: Decisioun boundaries on the two circles dataset"
   ]
  },
  {
   "cell_type": "code",
   "execution_count": 17,
   "metadata": {
    "collapsed": false
   },
   "outputs": [
    {
     "ename": "ValueError",
     "evalue": "zero-size array to reduction operation maximum which has no identity",
     "traceback": [
      "\u001b[0;31m---------------------------------------------------------------------------\u001b[0m",
      "\u001b[0;31mValueError\u001b[0m                                Traceback (most recent call last)",
      "\u001b[0;32m<ipython-input-17-d6c10b5fc40e>\u001b[0m in \u001b[0;36m<module>\u001b[0;34m()\u001b[0m\n\u001b[1;32m     23\u001b[0m     \u001b[0moutputs\u001b[0m \u001b[0;34m=\u001b[0m \u001b[0mlen\u001b[0m\u001b[0;34m(\u001b[0m\u001b[0mnp\u001b[0m\u001b[0;34m.\u001b[0m\u001b[0munique\u001b[0m\u001b[0;34m(\u001b[0m\u001b[0my\u001b[0m\u001b[0;34m)\u001b[0m\u001b[0;34m)\u001b[0m\u001b[0;34m\u001b[0m\u001b[0m\n\u001b[1;32m     24\u001b[0m     \u001b[0mmlp\u001b[0m \u001b[0;34m=\u001b[0m \u001b[0mMLP\u001b[0m\u001b[0;34m(\u001b[0m\u001b[0minputs\u001b[0m\u001b[0;34m,\u001b[0m \u001b[0mhidden\u001b[0m\u001b[0;34m,\u001b[0m \u001b[0moutputs\u001b[0m\u001b[0;34m,\u001b[0m \u001b[0mlambda_\u001b[0m\u001b[0;34m)\u001b[0m\u001b[0;34m\u001b[0m\u001b[0m\n\u001b[0;32m---> 25\u001b[0;31m     \u001b[0mmlp\u001b[0m\u001b[0;34m.\u001b[0m\u001b[0mfit\u001b[0m\u001b[0;34m(\u001b[0m\u001b[0mx\u001b[0m\u001b[0;34m,\u001b[0m \u001b[0my\u001b[0m\u001b[0;34m,\u001b[0m \u001b[0mbatch_size\u001b[0m\u001b[0;34m,\u001b[0m \u001b[0mepochs\u001b[0m\u001b[0;34m,\u001b[0m \u001b[0mlr\u001b[0m\u001b[0;34m)\u001b[0m\u001b[0;34m\u001b[0m\u001b[0m\n\u001b[0m\u001b[1;32m     26\u001b[0m     \u001b[0mname\u001b[0m \u001b[0;34m=\u001b[0m \u001b[0mos\u001b[0m\u001b[0;34m.\u001b[0m\u001b[0mpath\u001b[0m\u001b[0;34m.\u001b[0m\u001b[0mjoin\u001b[0m\u001b[0;34m(\u001b[0m\u001b[0msave_dir\u001b[0m\u001b[0;34m,\u001b[0m \u001b[0;34m'lambda'\u001b[0m\u001b[0;34m,\u001b[0m \u001b[0;34m'lambda_{}'\u001b[0m\u001b[0;34m.\u001b[0m\u001b[0mformat\u001b[0m\u001b[0;34m(\u001b[0m\u001b[0mi\u001b[0m\u001b[0;34m)\u001b[0m\u001b[0;34m)\u001b[0m\u001b[0;34m\u001b[0m\u001b[0m\n\u001b[1;32m     27\u001b[0m     \u001b[0mplot_decision_boundary\u001b[0m\u001b[0;34m(\u001b[0m\u001b[0mmlp\u001b[0m\u001b[0;34m,\u001b[0m \u001b[0mx\u001b[0m\u001b[0;34m,\u001b[0m \u001b[0my\u001b[0m\u001b[0;34m,\u001b[0m \u001b[0mtitle\u001b[0m\u001b[0;34m,\u001b[0m \u001b[0mname\u001b[0m\u001b[0;34m)\u001b[0m\u001b[0;34m\u001b[0m\u001b[0m\n",
      "\u001b[0;32m/Users/milo/Home/UdeM/IntroML/IFT6390-HW3/mlp.py\u001b[0m in \u001b[0;36mfit\u001b[0;34m(self, x_train, y_train, K, epochs, eta, x_val, y_val, x_test, y_test)\u001b[0m\n\u001b[1;32m    144\u001b[0m                 \u001b[0mx_batch\u001b[0m \u001b[0;34m=\u001b[0m \u001b[0mx_train\u001b[0m\u001b[0;34m[\u001b[0m\u001b[0;34m:\u001b[0m\u001b[0;34m,\u001b[0m \u001b[0mint\u001b[0m\u001b[0;34m(\u001b[0m\u001b[0mn_batches\u001b[0m\u001b[0;34m*\u001b[0m\u001b[0mK\u001b[0m\u001b[0;34m)\u001b[0m\u001b[0;34m:\u001b[0m\u001b[0;34m]\u001b[0m\u001b[0;34m\u001b[0m\u001b[0m\n\u001b[1;32m    145\u001b[0m                 \u001b[0my_batch\u001b[0m \u001b[0;34m=\u001b[0m \u001b[0my_train\u001b[0m\u001b[0;34m[\u001b[0m\u001b[0;34m:\u001b[0m\u001b[0;34m,\u001b[0m \u001b[0mint\u001b[0m\u001b[0;34m(\u001b[0m\u001b[0mn_batches\u001b[0m\u001b[0;34m*\u001b[0m\u001b[0mK\u001b[0m\u001b[0;34m)\u001b[0m\u001b[0;34m:\u001b[0m\u001b[0;34m]\u001b[0m\u001b[0;34m\u001b[0m\u001b[0m\n\u001b[0;32m--> 146\u001b[0;31m                 \u001b[0mcost\u001b[0m\u001b[0;34m,\u001b[0m \u001b[0mgradients\u001b[0m \u001b[0;34m=\u001b[0m \u001b[0mself\u001b[0m\u001b[0;34m.\u001b[0m\u001b[0mcalculate_gradient\u001b[0m\u001b[0;34m(\u001b[0m\u001b[0mx_batch\u001b[0m\u001b[0;34m,\u001b[0m \u001b[0my_batch\u001b[0m\u001b[0;34m)\u001b[0m\u001b[0;34m\u001b[0m\u001b[0m\n\u001b[0m\u001b[1;32m    147\u001b[0m                 \u001b[0mself\u001b[0m\u001b[0;34m.\u001b[0m\u001b[0mupdate_weights\u001b[0m\u001b[0;34m(\u001b[0m\u001b[0meta\u001b[0m\u001b[0;34m,\u001b[0m \u001b[0mgradients\u001b[0m\u001b[0;34m)\u001b[0m\u001b[0;34m\u001b[0m\u001b[0m\n\u001b[1;32m    148\u001b[0m                 \u001b[0mcost_batch\u001b[0m\u001b[0;34m.\u001b[0m\u001b[0mappend\u001b[0m\u001b[0;34m(\u001b[0m\u001b[0mnp\u001b[0m\u001b[0;34m.\u001b[0m\u001b[0msum\u001b[0m\u001b[0;34m(\u001b[0m\u001b[0mcost\u001b[0m\u001b[0;34m)\u001b[0m\u001b[0;34m)\u001b[0m\u001b[0;34m\u001b[0m\u001b[0m\n",
      "\u001b[0;32m/Users/milo/Home/UdeM/IntroML/IFT6390-HW3/mlp.py\u001b[0m in \u001b[0;36mcalculate_gradient\u001b[0;34m(self, x, y)\u001b[0m\n\u001b[1;32m     98\u001b[0m         \u001b[0mgradients\u001b[0m \u001b[0;34m=\u001b[0m \u001b[0minitialize_gradient_results\u001b[0m\u001b[0;34m(\u001b[0m\u001b[0mself\u001b[0m\u001b[0;34m.\u001b[0m\u001b[0mn_inputs\u001b[0m\u001b[0;34m,\u001b[0m \u001b[0mself\u001b[0m\u001b[0;34m.\u001b[0m\u001b[0mn_hidden\u001b[0m\u001b[0;34m,\u001b[0m \u001b[0mself\u001b[0m\u001b[0;34m.\u001b[0m\u001b[0mn_outputs\u001b[0m\u001b[0;34m)\u001b[0m\u001b[0;34m\u001b[0m\u001b[0m\n\u001b[1;32m     99\u001b[0m         \u001b[0;32mif\u001b[0m \u001b[0mself\u001b[0m\u001b[0;34m.\u001b[0m\u001b[0mmatrix\u001b[0m\u001b[0;34m:\u001b[0m\u001b[0;34m\u001b[0m\u001b[0m\n\u001b[0;32m--> 100\u001b[0;31m             \u001b[0mself\u001b[0m\u001b[0;34m.\u001b[0m\u001b[0mforward_pass\u001b[0m\u001b[0;34m(\u001b[0m\u001b[0mx\u001b[0m\u001b[0;34m)\u001b[0m\u001b[0;34m\u001b[0m\u001b[0m\n\u001b[0m\u001b[1;32m    101\u001b[0m             \u001b[0mself\u001b[0m\u001b[0;34m.\u001b[0m\u001b[0mcalculate_cost\u001b[0m\u001b[0;34m(\u001b[0m\u001b[0my\u001b[0m\u001b[0;34m)\u001b[0m\u001b[0;34m\u001b[0m\u001b[0m\n\u001b[1;32m    102\u001b[0m             \u001b[0mcost\u001b[0m \u001b[0;34m=\u001b[0m \u001b[0mself\u001b[0m\u001b[0;34m.\u001b[0m\u001b[0mfprop\u001b[0m\u001b[0;34m[\u001b[0m\u001b[0;34m'cost'\u001b[0m\u001b[0;34m]\u001b[0m\u001b[0;34m\u001b[0m\u001b[0m\n",
      "\u001b[0;32m/Users/milo/Home/UdeM/IntroML/IFT6390-HW3/mlp.py\u001b[0m in \u001b[0;36mforward_pass\u001b[0;34m(self, x)\u001b[0m\n\u001b[1;32m     43\u001b[0m \u001b[0;34m\u001b[0m\u001b[0m\n\u001b[1;32m     44\u001b[0m         \u001b[0;31m# Output layer activation\u001b[0m\u001b[0;34m\u001b[0m\u001b[0;34m\u001b[0m\u001b[0m\n\u001b[0;32m---> 45\u001b[0;31m         \u001b[0mos\u001b[0m \u001b[0;34m=\u001b[0m \u001b[0mself\u001b[0m\u001b[0;34m.\u001b[0m\u001b[0mactivations\u001b[0m\u001b[0;34m[\u001b[0m\u001b[0;34m'a2'\u001b[0m\u001b[0;34m]\u001b[0m\u001b[0;34m.\u001b[0m\u001b[0mforward\u001b[0m\u001b[0;34m(\u001b[0m\u001b[0moa\u001b[0m\u001b[0;34m)\u001b[0m\u001b[0;34m\u001b[0m\u001b[0m\n\u001b[0m\u001b[1;32m     46\u001b[0m         \u001b[0;31m# Save result os\u001b[0m\u001b[0;34m\u001b[0m\u001b[0;34m\u001b[0m\u001b[0m\n\u001b[1;32m     47\u001b[0m         \u001b[0mself\u001b[0m\u001b[0;34m.\u001b[0m\u001b[0mfprop\u001b[0m\u001b[0;34m[\u001b[0m\u001b[0;34m'os'\u001b[0m\u001b[0;34m]\u001b[0m \u001b[0;34m=\u001b[0m \u001b[0mos\u001b[0m\u001b[0;34m\u001b[0m\u001b[0m\n",
      "\u001b[0;32m/Users/milo/Home/UdeM/IntroML/IFT6390-HW3/activation.py\u001b[0m in \u001b[0;36mforward\u001b[0;34m(self, x)\u001b[0m\n\u001b[1;32m     18\u001b[0m \u001b[0;32mclass\u001b[0m \u001b[0mSoftmax\u001b[0m\u001b[0;34m(\u001b[0m\u001b[0mActivation\u001b[0m\u001b[0;34m)\u001b[0m\u001b[0;34m:\u001b[0m\u001b[0;34m\u001b[0m\u001b[0m\n\u001b[1;32m     19\u001b[0m     \u001b[0;32mdef\u001b[0m \u001b[0mforward\u001b[0m\u001b[0;34m(\u001b[0m\u001b[0mself\u001b[0m\u001b[0;34m,\u001b[0m \u001b[0mx\u001b[0m\u001b[0;34m)\u001b[0m\u001b[0;34m:\u001b[0m\u001b[0;34m\u001b[0m\u001b[0m\n\u001b[0;32m---> 20\u001b[0;31m         \u001b[0mmax\u001b[0m \u001b[0;34m=\u001b[0m \u001b[0mnp\u001b[0m\u001b[0;34m.\u001b[0m\u001b[0mamax\u001b[0m\u001b[0;34m(\u001b[0m\u001b[0mx\u001b[0m\u001b[0;34m)\u001b[0m\u001b[0;34m\u001b[0m\u001b[0m\n\u001b[0m\u001b[1;32m     21\u001b[0m         \u001b[0msoftmax\u001b[0m \u001b[0;34m=\u001b[0m \u001b[0mnp\u001b[0m\u001b[0;34m.\u001b[0m\u001b[0mexp\u001b[0m\u001b[0;34m(\u001b[0m\u001b[0mx\u001b[0m\u001b[0;34m-\u001b[0m\u001b[0mmax\u001b[0m\u001b[0;34m)\u001b[0m\u001b[0;34m/\u001b[0m\u001b[0mnp\u001b[0m\u001b[0;34m.\u001b[0m\u001b[0msum\u001b[0m\u001b[0;34m(\u001b[0m\u001b[0mnp\u001b[0m\u001b[0;34m.\u001b[0m\u001b[0mexp\u001b[0m\u001b[0;34m(\u001b[0m\u001b[0mx\u001b[0m\u001b[0;34m-\u001b[0m\u001b[0mmax\u001b[0m\u001b[0;34m)\u001b[0m\u001b[0;34m,\u001b[0m \u001b[0maxis\u001b[0m\u001b[0;34m=\u001b[0m\u001b[0;36m0\u001b[0m\u001b[0;34m)\u001b[0m\u001b[0;34m\u001b[0m\u001b[0m\n\u001b[1;32m     22\u001b[0m         \u001b[0;32mreturn\u001b[0m \u001b[0msoftmax\u001b[0m\u001b[0;34m\u001b[0m\u001b[0m\n",
      "\u001b[0;32m/Users/milo/anaconda3/lib/python3.6/site-packages/numpy/core/fromnumeric.py\u001b[0m in \u001b[0;36mamax\u001b[0;34m(a, axis, out, keepdims)\u001b[0m\n\u001b[1;32m   2250\u001b[0m \u001b[0;34m\u001b[0m\u001b[0m\n\u001b[1;32m   2251\u001b[0m     return _methods._amax(a, axis=axis,\n\u001b[0;32m-> 2252\u001b[0;31m                           out=out, **kwargs)\n\u001b[0m\u001b[1;32m   2253\u001b[0m \u001b[0;34m\u001b[0m\u001b[0m\n\u001b[1;32m   2254\u001b[0m \u001b[0;34m\u001b[0m\u001b[0m\n",
      "\u001b[0;32m/Users/milo/anaconda3/lib/python3.6/site-packages/numpy/core/_methods.py\u001b[0m in \u001b[0;36m_amax\u001b[0;34m(a, axis, out, keepdims)\u001b[0m\n\u001b[1;32m     24\u001b[0m \u001b[0;31m# small reductions\u001b[0m\u001b[0;34m\u001b[0m\u001b[0;34m\u001b[0m\u001b[0m\n\u001b[1;32m     25\u001b[0m \u001b[0;32mdef\u001b[0m \u001b[0m_amax\u001b[0m\u001b[0;34m(\u001b[0m\u001b[0ma\u001b[0m\u001b[0;34m,\u001b[0m \u001b[0maxis\u001b[0m\u001b[0;34m=\u001b[0m\u001b[0;32mNone\u001b[0m\u001b[0;34m,\u001b[0m \u001b[0mout\u001b[0m\u001b[0;34m=\u001b[0m\u001b[0;32mNone\u001b[0m\u001b[0;34m,\u001b[0m \u001b[0mkeepdims\u001b[0m\u001b[0;34m=\u001b[0m\u001b[0;32mFalse\u001b[0m\u001b[0;34m)\u001b[0m\u001b[0;34m:\u001b[0m\u001b[0;34m\u001b[0m\u001b[0m\n\u001b[0;32m---> 26\u001b[0;31m     \u001b[0;32mreturn\u001b[0m \u001b[0mumr_maximum\u001b[0m\u001b[0;34m(\u001b[0m\u001b[0ma\u001b[0m\u001b[0;34m,\u001b[0m \u001b[0maxis\u001b[0m\u001b[0;34m,\u001b[0m \u001b[0;32mNone\u001b[0m\u001b[0;34m,\u001b[0m \u001b[0mout\u001b[0m\u001b[0;34m,\u001b[0m \u001b[0mkeepdims\u001b[0m\u001b[0;34m)\u001b[0m\u001b[0;34m\u001b[0m\u001b[0m\n\u001b[0m\u001b[1;32m     27\u001b[0m \u001b[0;34m\u001b[0m\u001b[0m\n\u001b[1;32m     28\u001b[0m \u001b[0;32mdef\u001b[0m \u001b[0m_amin\u001b[0m\u001b[0;34m(\u001b[0m\u001b[0ma\u001b[0m\u001b[0;34m,\u001b[0m \u001b[0maxis\u001b[0m\u001b[0;34m=\u001b[0m\u001b[0;32mNone\u001b[0m\u001b[0;34m,\u001b[0m \u001b[0mout\u001b[0m\u001b[0;34m=\u001b[0m\u001b[0;32mNone\u001b[0m\u001b[0;34m,\u001b[0m \u001b[0mkeepdims\u001b[0m\u001b[0;34m=\u001b[0m\u001b[0;32mFalse\u001b[0m\u001b[0;34m)\u001b[0m\u001b[0;34m:\u001b[0m\u001b[0;34m\u001b[0m\u001b[0m\n",
      "\u001b[0;31mValueError\u001b[0m: zero-size array to reduction operation maximum which has no identity"
     ],
     "output_type": "error"
    }
   ],
   "source": [
    "# constants\n",
    "save_dir = os.path.join('results', 'experiment5')\n",
    "\n",
    "# Load data\n",
    "circle = np.loadtxt(os.path.join('data', 'circles.txt'))\n",
    "x = circle[:, :-1].T\n",
    "y = np.clip(circle[:, -1].T.reshape(1, -1), 0, 1).astype(int)\n",
    "\n",
    "# Varying weight decay\n",
    "lr = 0.001\n",
    "lambdas = [([0.0, 0.0, 0.0, 0.0], 'Decision surface on an MLP for circles with no regularization'),\n",
    "           ([0.002, 0.0002, 0.002, 0.002], 'Decision surface on an MLP for circles with low regularization (L1 & L2)'),\n",
    "           ([0.005, 0.005, 0.005, 0.005], 'Decision surface on an MLP for circles with high regularization (L1 & L2)'),\n",
    "           ([0.01, 0.0, 0.01, 0.0], 'Decision surface on an MLP for circles with low L1 regularization'),\n",
    "           ([0.015, 0.0, 0.015, 0.0], 'Decision surface on an MLP for circles with high L1 regularization'),\n",
    "           ([0.0, 0.015, 0.0, 0.015], 'Decision surface on an MLP for circles with low L2 regularization'),\n",
    "           ([0.0, 0.02, 0.0, 0.02], 'Decision surface on an MLP for circles with low L2 regularization')]\n",
    "hidden = 200\n",
    "epochs = 50\n",
    "batch_size = 500\n",
    "for i, (lambda_, title) in enumerate(lambdas):\n",
    "    inputs = len(x)\n",
    "    outputs = len(np.unique(y))\n",
    "    mlp = MLP(inputs, hidden, outputs, lambda_)\n",
    "    mlp.fit(x, y, batch_size, epochs, lr)\n",
    "    name = os.path.join(save_dir, 'lambda', 'lambda_{}'.format(i))\n",
    "    plot_decision_boundary(mlp, x, y, title, name)\n",
    "\n",
    "# Varying number of hidden units\n",
    "lr = 0.001\n",
    "lambdas = [0.001, 0.0001, 0.001, 0.001]\n",
    "hiddens = [1, 2, 5, 20, 50, 100, 200]\n",
    "epochs = 50\n",
    "batch_size = 500\n",
    "for i, hidden in enumerate(hiddens):\n",
    "    inputs = len(x)\n",
    "    outputs = len(np.unique(y))\n",
    "    mlp = MLP(inputs, hidden, outputs, lambdas)\n",
    "    mlp.fit(x, y, batch_size, epochs, lr)\n",
    "    # name = os.path.join(save_dir, 'hidden', 'hidden_{}'.format(i))\n",
    "    title = 'Decision surface on an MLP for circles with {} hidden unit(s)'.format(hidden)\n",
    "    plot_decision_boundary(mlp, x, y, title, name)\n",
    "\n",
    "# Varying number of epochs\n",
    "lr = 0.001\n",
    "lambdas = [0.001, 0.0001, 0.001, 0.001]\n",
    "hidden = 100\n",
    "epochs = [1, 2, 3, 10, 20, 50, 100]\n",
    "batch_size = 500\n",
    "for i, epoch in enumerate(epochs):\n",
    "    inputs = len(x)\n",
    "    outputs = len(np.unique(y))\n",
    "    mlp = MLP(inputs, hidden, outputs, lambdas)\n",
    "    mlp.fit(x, y, batch_size, epoch, lr)\n",
    "    # name = os.path.join(save_dir, 'epochs', 'epochs_{}'.format(i))\n",
    "    title = 'Decision surface on an MLP for circles with {} epoch(s)'.format(epoch)\n",
    "    plot_decision_boundary(mlp, x, y, title, name)\n"
   ]
  },
  {
   "cell_type": "markdown",
   "metadata": {},
   "source": [
    "Notice how increasing regularization, running the MLP for a low number of epochs, and having few hidden units shrinks the size of the decision boundary. In that sense, all of these factors decrease the capacity of the MLP. "
   ]
  },
  {
   "cell_type": "markdown",
   "metadata": {},
   "source": [
    "# Experiment 7: Matrix forms versus loops gradient checking"
   ]
  },
  {
   "cell_type": "code",
   "execution_count": 15,
   "metadata": {},
   "outputs": [
    {
     "name": "stdout",
     "output_type": "stream",
     "text": [
      "{'numerical_gradient_w2': array([[-0.38513988, -0.47123248]]), 'grad_w2': array([[-0.38516988, -0.47126248]]), 'check_w2': array([[ 0.99992211,  0.99993634]]), 'numerical_gradient_b2': array([[ 0.]]), 'grad_b2': array([[ 0.]]), 'check_b2': array([[ 1.]]), 'numerical_gradient_w1': array([[-0.25842878,  0.23127079],\n       [ 0.59674978,  0.56582312]]), 'grad_w1': array([[-0.25847378,  0.23122579],\n       [ 0.59670478,  0.56577812]]), 'check_w1': array([[ 0.9998259 ,  1.00019461],\n       [ 1.00007541,  1.00007954]]), 'numerical_gradient_b1': array([[ 0.],\n       [ 0.]]), 'grad_b1': array([[ 0.],\n       [ 0.]]), 'check_b1': array([[ 1.],\n       [ 1.]])}\n{'numerical_gradient_w2': array([[ 0.53217989, -0.47264862]]), 'grad_w2': array([[ 0.53214989, -0.47267862]]), 'check_w2': array([[ 1.00005638,  0.99993653]]), 'numerical_gradient_b2': array([[ 0.]]), 'grad_b2': array([[ 0.]]), 'check_b2': array([[ 1.]]), 'numerical_gradient_w1': array([[-0.76904285, -0.61727478],\n       [ 0.55329156, -0.70620673]]), 'grad_w1': array([[-0.76908785, -0.61731978],\n       [ 0.55324656, -0.70625173]]), 'check_w1': array([[ 0.99994149,  0.9999271 ],\n       [ 1.00008134,  0.99993628]]), 'numerical_gradient_b1': array([[ 0.],\n       [ 0.]]), 'grad_b1': array([[ 0.],\n       [ 0.]]), 'check_b1': array([[ 1.],\n       [ 1.]])}\n{'numerical_gradient_w2': array([[ 3.72155787,  2.41636874]]), 'grad_w2': array([[ 0.37212579,  0.24160687]]), 'check_w2': array([[ 1.00008062,  1.00012417]]), 'numerical_gradient_b2': array([[ 0.]]), 'grad_b2': array([[ 0.]]), 'check_b2': array([[ 1.]]), 'numerical_gradient_w1': array([[-4.25747521, -4.67790752],\n       [ 6.20353978,  8.22302126]]), 'grad_w1': array([[-0.42579252, -0.46783575],\n       [ 0.62030898,  0.82225713]]), 'check_w1': array([[ 0.99989431,  0.99990381],\n       [ 1.00007254,  1.00005473]]), 'numerical_gradient_b1': array([[ 0.],\n       [ 0.]]), 'grad_b1': array([[ 0.],\n       [ 0.]]), 'check_b1': array([[ 1.],\n       [ 1.]])}\n{'numerical_gradient_w2': array([[ 1.46368763,  4.01206773]]), 'grad_w2': array([[ 1.46338763,  4.01176773]]), 'check_w2': array([[ 1.000205  ,  1.00007478]]), 'numerical_gradient_b2': array([[ 0.]]), 'grad_b2': array([[ 0.]]), 'check_b2': array([[ 1.]]), 'numerical_gradient_w1': array([[ 3.70154468,  6.64402266],\n       [ 7.5669554 ,  5.12558382]]), 'grad_w1': array([[ 3.70109468,  6.64357266],\n       [ 7.5665054 ,  5.12513382]]), 'check_w1': array([[ 1.00012159,  1.00006773],\n       [ 1.00005947,  1.0000878 ]]), 'numerical_gradient_b1': array([[ 0.],\n       [ 0.]]), 'grad_b1': array([[ 0.],\n       [ 0.]]), 'check_b1': array([[ 1.],\n       [ 1.]])}\n"
     ]
    }
   ],
   "source": [
    "for n in [1, 10]:\n",
    "    inputs = 2\n",
    "    outputs = 1\n",
    "    hidden = 2\n",
    "    lambdas = [0.19, 0.45, 0.12, 0.3]\n",
    "    x = np.random.rand(inputs, n)\n",
    "    y = np.random.randint(0, outputs, (1, n))\n",
    "\n",
    "    # Loop form\n",
    "    mlp = MLP(inputs, hidden, outputs, lambdas, matrix=False)\n",
    "    numerical_gradient_w2, check_w2 = gradient_check('w2', mlp, 10e-5, x, y)\n",
    "    numerical_gradient_b2, check_b2 = gradient_check('b2', mlp, 10e-5, x, y)\n",
    "    numerical_gradient_w1, check_w1 = gradient_check('w1', mlp, 10e-5, x, y)\n",
    "    numerical_gradient_b1, check_b1 = gradient_check('b1', mlp, 10e-5, x, y)\n",
    "    experiment_7_loop = {\n",
    "        'numerical_gradient_w2': numerical_gradient_w2,\n",
    "        'grad_w2': mlp.bprop['grad_w2'],\n",
    "        'check_w2': check_w2,\n",
    "        'numerical_gradient_b2': numerical_gradient_b2,\n",
    "        'grad_b2': mlp.bprop['grad_b2'],\n",
    "        'check_b2': check_b2,\n",
    "        'numerical_gradient_w1': numerical_gradient_w1,\n",
    "        'grad_w1': mlp.bprop['grad_w1'],\n",
    "        'check_w1': check_w1,\n",
    "        'numerical_gradient_b1': numerical_gradient_b1,\n",
    "        'grad_b1': mlp.bprop['grad_b1'],\n",
    "        'check_b1': check_b1}\n",
    "\n",
    "    # Matrix form\n",
    "    mlp = MLP(inputs, hidden, outputs, lambdas)\n",
    "    numerical_gradient_w2, check_w2 = gradient_check('w2', mlp, 10e-5, x, y)\n",
    "    numerical_gradient_b2, check_b2 = gradient_check('b2', mlp, 10e-5, x, y)\n",
    "    numerical_gradient_w1, check_w1 = gradient_check('w1', mlp, 10e-5, x, y)\n",
    "    numerical_gradient_b1, check_b1 = gradient_check('b1', mlp, 10e-5, x, y)\n",
    "    experiment_7_matrix = {\n",
    "        'numerical_gradient_w2': numerical_gradient_w2,\n",
    "        'grad_w2': mlp.bprop['grad_w2'],\n",
    "        'check_w2': check_w2,\n",
    "        'numerical_gradient_b2': numerical_gradient_b2,\n",
    "        'grad_b2': mlp.bprop['grad_b2'],\n",
    "        'check_b2': check_b2,\n",
    "        'numerical_gradient_w1': numerical_gradient_w1,\n",
    "        'grad_w1': mlp.bprop['grad_w1'],\n",
    "        'check_w1': check_w1,\n",
    "        'numerical_gradient_b1': numerical_gradient_b1,\n",
    "        'grad_b1': mlp.bprop['grad_b1'],\n",
    "        'check_b1': check_b1}\n",
    "    \n",
    "    print(experiment_7_loop)\n",
    "\n",
    "    print(experiment_7_matrix)"
   ]
  },
  {
   "cell_type": "markdown",
   "metadata": {},
   "source": [
    "Checking the gradients again shows how the ratios are all close to 1. "
   ]
  },
  {
   "cell_type": "markdown",
   "metadata": {},
   "source": [
    "Experiment 8: Fashion MNIST timing"
   ]
  },
  {
   "cell_type": "code",
   "execution_count": 2,
   "metadata": {},
   "outputs": [
    {
     "name": "stdout",
     "output_type": "stream",
     "text": [
      "Time elapsed for 1 epoch using matrix forms: 1.212 seconds\n"
     ]
    },
    {
     "name": "stdout",
     "output_type": "stream",
     "text": [
      "Time elapsed for 1 epoch using loop: 16.811 seconds\n"
     ]
    }
   ],
   "source": [
    "import sys\n",
    "import time\n",
    "sys.path.append('../fashion-mnist/utils')\n",
    "import mnist_reader\n",
    "\n",
    "X_train, y_train = mnist_reader.load_mnist('data/fashion', kind='train')\n",
    "\n",
    "# transpose to match dims to mlp expected format\n",
    "X_train = X_train.T\n",
    "y_train = np.expand_dims(y_train, axis=-1).T\n",
    "\n",
    "d = 784\n",
    "K = 100\n",
    "dh = 10\n",
    "m = 10\n",
    "lambdas = [0.01, 0.01, 0.01, 0.01]\n",
    "mlp_m = MLP(d, dh, m, lambdas, matrix=True)\n",
    "mlp_l = MLP(d, dh, m, lambdas, matrix=False)\n",
    "\n",
    "start_m = time.time()\n",
    "mlp_m.fit(X_train, y_train, K, 1, 1e-5)\n",
    "stop_m = time.time()\n",
    "\n",
    "matrix_time = stop_m - start_m\n",
    "print('Time elapsed for 1 epoch using matrix forms: {a:.3f} seconds'.format(a=matrix_time))\n",
    "\n",
    "start_l = time.time()\n",
    "mlp_l.fit(X_train, y_train, K, 1, 1e-5)\n",
    "stop_l = time.time()\n",
    "loop_time = stop_l - start_l\n",
    "print('Time elapsed for 1 epoch using loop: {a:.3f} seconds'.format(a=loop_time))"
   ]
  },
  {
   "cell_type": "markdown",
   "metadata": {},
   "source": [
    "As expected, the matrix form speeds up training significantly."
   ]
  },
  {
   "cell_type": "markdown",
   "metadata": {},
   "source": [
    "# Experiment 10: Error and loss functions on train/val/test "
   ]
  },
  {
   "cell_type": "code",
   "execution_count": 3,
   "metadata": {},
   "outputs": [],
   "source": [
    "X_test, y_test = mnist_reader.load_mnist('data/fashion', kind='t10k')\n",
    "X_test = X_test.T\n",
    "y_test = np.expand_dims(y_test, axis=-1).T\n",
    "# Test/val splitting is done on the test set using a 70/30 split\n",
    "X_val = X_test[:, 0:3000]\n",
    "y_val = y_test[:, 0:3000]\n",
    "\n",
    "X_test = X_test[:, 3000:]\n",
    "y_test = y_test[:, 3000:]"
   ]
  },
  {
   "cell_type": "code",
   "execution_count": 12,
   "metadata": {},
   "outputs": [
    {
     "data": {
      "image/png": "[encoded data removed]",
      "text/plain": [
       "<matplotlib.figure.Figure at 0x11ba8d978>"
      ]
     },
     "metadata": {},
     "output_type": "display_data"
    },
    {
     "data": {
      "image/png": "[encoded data removed]",
      "text/plain": [
       "<matplotlib.figure.Figure at 0x11c9f8e48>"
      ]
     },
     "metadata": {},
     "output_type": "display_data"
    }
   ],
   "source": [
    "dh = 400\n",
    "lambdas = [0.01, 0.01, 0, 0.01]\n",
    "mlp_m = MLP(d, dh, m, lambdas, matrix=True, verbose=False)\n",
    "\n",
    "losses, errors = mlp_m.fit(X_train, y_train, K, 70, 1e-8, X_val, y_val, X_test, y_test)\n",
    "\n",
    "train_cost = np.expand_dims(np.asarray(losses['train']), axis=0)\n",
    "train_error = np.expand_dims(np.asarray(errors['train']), axis=0)\n",
    "val_cost = np.expand_dims(np.asarray(losses['val']), axis=0)\n",
    "val_error = np.expand_dims(np.asarray(errors['val']), axis=0)\n",
    "test_cost = np.expand_dims(np.asarray(losses['test']), axis=0)\n",
    "test_error = np.expand_dims(np.asarray(errors['test']), axis=0)\n",
    "\n",
    "costs = np.vstack((train_cost, val_cost, test_cost))\n",
    "errors = np.vstack((train_error, val_error, test_error))\n",
    "\n",
    "plot_functions(errors, ['train', 'val', 'test'], ['Epoch', 'Error (%)'])\n",
    "plot_functions(costs, ['train', 'val', 'test'], ['Epoch', 'Average loss'])"
   ]
  },
  {
   "cell_type": "code",
   "execution_count": null,
   "metadata": {},
   "outputs": [],
   "source": []
  }
 ],
 "metadata": {
  "kernelspec": {
   "display_name": "Python 2",
   "language": "python",
   "name": "python2"
  },
  "language_info": {
   "codemirror_mode": {
    "name": "ipython",
    "version": 2
   },
   "file_extension": ".py",
   "mimetype": "text/x-python",
   "name": "python",
   "nbconvert_exporter": "python",
   "pygments_lexer": "ipython2",
   "version": "2.7.6"
  }
 },
 "nbformat": 4,
 "nbformat_minor": 0
}
